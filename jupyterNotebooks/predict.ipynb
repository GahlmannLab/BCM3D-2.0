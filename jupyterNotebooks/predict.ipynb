{
 "cells": [
  {
   "cell_type": "markdown",
   "metadata": {},
   "source": [
    "<hr style=\"height:2px;\">\n",
    "\n",
    "# Demo: Apply trained CARE model for image transfer in *BCM3D 2.0*\n",
    "\n",
    "This notebook demonstrates applying a CARE model for a 3D image transfer task, assuming that training was already completed via training.ipynb.  \n",
    "The trained model is assumed to be located in the folder `models` with the name `my_model`."
   ]
  },
  {
   "cell_type": "code",
   "execution_count": 5,
   "metadata": {},
   "outputs": [],
   "source": [
    "#!pip install --user csbdeep"
   ]
  },
  {
   "cell_type": "code",
   "execution_count": 4,
   "metadata": {},
   "outputs": [],
   "source": [
    "from __future__ import print_function, unicode_literals, absolute_import, division\n",
    "import numpy as np\n",
    "import matplotlib.pyplot as plt\n",
    "%matplotlib inline\n",
    "%config InlineBackend.figure_format = 'retina'\n",
    "\n",
    "from tifffile import imread\n",
    "from csbdeep.utils import Path, download_and_extract_zip_file, plot_some\n",
    "from csbdeep.io import save_tiff_imagej_compatible\n",
    "from csbdeep.models import CARE\n",
    "\n",
    "import os"
   ]
  },
  {
   "cell_type": "markdown",
   "metadata": {},
   "source": [
    "## Input"
   ]
  },
  {
   "cell_type": "code",
   "execution_count": 5,
   "metadata": {},
   "outputs": [],
   "source": [
    "modelName = 'model_Cell_Broder_residual_dist3D0410_Shewanella_488_cytosol&membrane'\n",
    "#modelName = 'BCM3D2_08172022_0107TrainingData_depth3_first32'\n",
    "modelDir = '/project/GahlmannLab/Yibo/cellDist/Models/ForSegmentation'\n",
    "outputDir = '/project/GahlmannLab/Yibo/cellDist/ModelOutput/shewan_Dilation2'\n",
    "# raw data to segment\n",
    "folder = '/project/GahlmannLab/Yibo/cellDist/Data/Predict/Shewan' \n",
    "\n",
    "# add package directory\n",
    "import sys\n",
    "sys.path.append(\"/project/GahlmannLab/Yibo/cellDist/Code/NetworkPredict\")"
   ]
  },
  {
   "cell_type": "markdown",
   "metadata": {},
   "source": [
    "<hr style=\"height:2px;\">\n",
    "\n",
    "# Load model and input images\n"
   ]
  },
  {
   "cell_type": "code",
   "execution_count": 6,
   "metadata": {},
   "outputs": [
    {
     "name": "stderr",
     "output_type": "stream",
     "text": [
      "2022-08-23 17:22:42.625158: I tensorflow/core/platform/cpu_feature_guard.cc:151] This TensorFlow binary is optimized with oneAPI Deep Neural Network Library (oneDNN) to use the following CPU instructions in performance-critical operations:  AVX2 FMA\n",
      "To enable them in other operations, rebuild TensorFlow with the appropriate compiler flags.\n",
      "2022-08-23 17:22:44.459652: I tensorflow/core/common_runtime/gpu/gpu_device.cc:1525] Created device /job:localhost/replica:0/task:0/device:GPU:0 with 10788 MB memory:  -> device: 0, name: Tesla K80, pci bus id: 0000:09:00.0, compute capability: 3.7\n"
     ]
    },
    {
     "name": "stdout",
     "output_type": "stream",
     "text": [
      "Loading network weights from 'weights_best.h5'.\n"
     ]
    }
   ],
   "source": [
    "# Load model\n",
    "model = CARE(config = None, name = modelName, \n",
    "             basedir = modelDir)\n",
    "axes ='ZCYX'\n",
    "#input images\n",
    "\n",
    "x_images = []\n",
    "x_filenames = []\n",
    "#folder = '/project/GahlmannLab/Yibo/cellDist/Data/Predict/Raw' #locate to your raw data\n",
    "for filename in os.listdir(folder): #import input folder\n",
    "    if filename.endswith('.tif') or filename.endswith('.tiff'):\n",
    "        img = imread(os.path.join(folder, filename))\n",
    "        if img is not None:\n",
    "            x_images.append(img)\n",
    "            x_filenames.append(filename)"
   ]
  },
  {
   "cell_type": "markdown",
   "metadata": {},
   "source": [
    "## Apply CARE network to input image\n",
    "\n",
    "Predict the restored image, we suggest you use n_tiles to divide your data if it is too large for memory."
   ]
  },
  {
   "cell_type": "code",
   "execution_count": 7,
   "metadata": {},
   "outputs": [
    {
     "name": "stdout",
     "output_type": "stream",
     "text": [
      "input image size = (137, 2, 166, 118)\n",
      "input image axes = ZCYX\n"
     ]
    },
    {
     "name": "stderr",
     "output_type": "stream",
     "text": [
      "2022-08-23 17:22:48.468134: I tensorflow/stream_executor/cuda/cuda_dnn.cc:368] Loaded cuDNN version 8101\n",
      "100%|██████████| 4/4 [00:02<00:00,  1.50it/s]   \n"
     ]
    },
    {
     "name": "stdout",
     "output_type": "stream",
     "text": [
      "output image size= (137, 2, 166, 118)\n",
      "output image axes = ZCYX\n",
      "BgFilter64_11_crop5ms-2_crop.tif\n"
     ]
    }
   ],
   "source": [
    "#Save Stored images\n",
    "from segmentation import segmentation\n",
    "\n",
    "if not os.path.exists(outputDir): \n",
    "    os.mkdir(outputDir)\n",
    "        \n",
    "# Predict\n",
    "img_num = len(x_images)\n",
    "for k in range(img_num):\n",
    "    x = x_images[k]\n",
    "    x = np.stack((x, x), axis=1)\n",
    "    print('input image size =', x.shape)\n",
    "    print('input image axes =', axes)\n",
    "\n",
    "    #%%time\n",
    "    restored = model.predict(x, axes, n_tiles=(1,1,2,2)) #solve out of memory issue\n",
    "    print('output image size=', restored.shape)\n",
    "    print('output image axes =', axes)\n",
    "    # save NN outputs\n",
    "    save_tiff_imagej_compatible(outputDir+'/%s_%s' % (model.name, x_filenames[k]), restored, axes)\n",
    "    # save final BCM3D 2.0 segmentation results\n",
    "    segmentation(restored, outputDir, x_filenames[k], dilationSize = 2)\n",
    "    "
   ]
  },
  {
   "cell_type": "markdown",
   "metadata": {},
   "source": [
    "**Note**: *Out of memory* problems during `model.predict` can also indicate that the GPU is used by another process. In particular, shut down the training notebook before running the prediction (you may need to restart this notebook)."
   ]
  },
  {
   "cell_type": "code",
   "execution_count": null,
   "metadata": {},
   "outputs": [],
   "source": []
  }
 ],
 "metadata": {
  "kernelspec": {
   "display_name": "Tensorflow 2.8.0/Keras Py3.9",
   "language": "python",
   "name": "tensorflow-2.8.0"
  },
  "language_info": {
   "codemirror_mode": {
    "name": "ipython",
    "version": 3
   },
   "file_extension": ".py",
   "mimetype": "text/x-python",
   "name": "python",
   "nbconvert_exporter": "python",
   "pygments_lexer": "ipython3",
   "version": "3.9.10"
  }
 },
 "nbformat": 4,
 "nbformat_minor": 4
}
