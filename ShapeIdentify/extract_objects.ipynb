{
 "cells": [
  {
   "cell_type": "markdown",
   "metadata": {},
   "source": [
    "## PCA cell observable\n",
    "YW"
   ]
  },
  {
   "cell_type": "code",
   "execution_count": 12,
   "metadata": {},
   "outputs": [],
   "source": [
    "from tifffile import imwrite, imread\n",
    "import os\n",
    "import math\n",
    "import pandas as pd\n",
    "import numpy as np\n",
    "from sklearn.decomposition import PCA\n",
    "from sklearn.preprocessing import StandardScaler\n",
    "import plotly.express as px\n",
    "import matplotlib.pyplot as plt\n",
    "from sklearn.covariance import EllipticEnvelope\n",
    "import seaborn as sns\n",
    "sns.set(style='ticks')"
   ]
  },
  {
   "cell_type": "code",
   "execution_count": 13,
   "metadata": {},
   "outputs": [
    {
     "data": {
      "text/html": [
       "<div>\n",
       "<style scoped>\n",
       "    .dataframe tbody tr th:only-of-type {\n",
       "        vertical-align: middle;\n",
       "    }\n",
       "\n",
       "    .dataframe tbody tr th {\n",
       "        vertical-align: top;\n",
       "    }\n",
       "\n",
       "    .dataframe thead th {\n",
       "        text-align: right;\n",
       "    }\n",
       "</style>\n",
       "<table border=\"1\" class=\"dataframe\">\n",
       "  <thead>\n",
       "    <tr style=\"text-align: right;\">\n",
       "      <th></th>\n",
       "      <th>Volume</th>\n",
       "      <th>Solidity</th>\n",
       "      <th>PrincipalAxisLength_1</th>\n",
       "      <th>PrincipalAxisLength_2</th>\n",
       "      <th>PrincipalAxisLength_3</th>\n",
       "      <th>PrincipalAxisLength_32ratio</th>\n",
       "      <th>OrientationVector_x</th>\n",
       "      <th>OrientationVector_y</th>\n",
       "      <th>OrientationVector_z</th>\n",
       "      <th>BoundingBox_x</th>\n",
       "      <th>BoundingBox_y</th>\n",
       "      <th>BoundingBox_z</th>\n",
       "      <th>BoundingBox_wx</th>\n",
       "      <th>BoundingBox_wy</th>\n",
       "      <th>BoundingBox_wz</th>\n",
       "    </tr>\n",
       "  </thead>\n",
       "  <tbody>\n",
       "    <tr>\n",
       "      <th>0</th>\n",
       "      <td>208</td>\n",
       "      <td>0.784906</td>\n",
       "      <td>12.953777</td>\n",
       "      <td>6.026627</td>\n",
       "      <td>4.424581</td>\n",
       "      <td>0.734172</td>\n",
       "      <td>0.267038</td>\n",
       "      <td>-0.962246</td>\n",
       "      <td>0.052659</td>\n",
       "      <td>0.5</td>\n",
       "      <td>8.5</td>\n",
       "      <td>0.5</td>\n",
       "      <td>12</td>\n",
       "      <td>8</td>\n",
       "      <td>5</td>\n",
       "    </tr>\n",
       "    <tr>\n",
       "      <th>1</th>\n",
       "      <td>451</td>\n",
       "      <td>0.749169</td>\n",
       "      <td>17.834520</td>\n",
       "      <td>6.768599</td>\n",
       "      <td>6.105318</td>\n",
       "      <td>0.902006</td>\n",
       "      <td>0.975086</td>\n",
       "      <td>-0.218923</td>\n",
       "      <td>-0.035764</td>\n",
       "      <td>24.5</td>\n",
       "      <td>12.5</td>\n",
       "      <td>0.5</td>\n",
       "      <td>10</td>\n",
       "      <td>18</td>\n",
       "      <td>10</td>\n",
       "    </tr>\n",
       "    <tr>\n",
       "      <th>2</th>\n",
       "      <td>135</td>\n",
       "      <td>0.950704</td>\n",
       "      <td>6.512637</td>\n",
       "      <td>6.123165</td>\n",
       "      <td>5.300518</td>\n",
       "      <td>0.865650</td>\n",
       "      <td>-0.067817</td>\n",
       "      <td>-0.271184</td>\n",
       "      <td>0.960135</td>\n",
       "      <td>109.5</td>\n",
       "      <td>0.5</td>\n",
       "      <td>1.5</td>\n",
       "      <td>7</td>\n",
       "      <td>6</td>\n",
       "      <td>8</td>\n",
       "    </tr>\n",
       "    <tr>\n",
       "      <th>3</th>\n",
       "      <td>760</td>\n",
       "      <td>0.775510</td>\n",
       "      <td>21.725340</td>\n",
       "      <td>8.782485</td>\n",
       "      <td>6.458644</td>\n",
       "      <td>0.735401</td>\n",
       "      <td>-0.059285</td>\n",
       "      <td>0.064144</td>\n",
       "      <td>0.996178</td>\n",
       "      <td>52.5</td>\n",
       "      <td>2.5</td>\n",
       "      <td>1.5</td>\n",
       "      <td>23</td>\n",
       "      <td>8</td>\n",
       "      <td>12</td>\n",
       "    </tr>\n",
       "    <tr>\n",
       "      <th>4</th>\n",
       "      <td>179</td>\n",
       "      <td>0.978142</td>\n",
       "      <td>8.092908</td>\n",
       "      <td>5.962277</td>\n",
       "      <td>5.494640</td>\n",
       "      <td>0.921567</td>\n",
       "      <td>-0.733256</td>\n",
       "      <td>-0.388385</td>\n",
       "      <td>0.558115</td>\n",
       "      <td>62.5</td>\n",
       "      <td>6.5</td>\n",
       "      <td>1.5</td>\n",
       "      <td>8</td>\n",
       "      <td>9</td>\n",
       "      <td>7</td>\n",
       "    </tr>\n",
       "  </tbody>\n",
       "</table>\n",
       "</div>"
      ],
      "text/plain": [
       "   Volume  Solidity  PrincipalAxisLength_1  PrincipalAxisLength_2  \\\n",
       "0     208  0.784906              12.953777               6.026627   \n",
       "1     451  0.749169              17.834520               6.768599   \n",
       "2     135  0.950704               6.512637               6.123165   \n",
       "3     760  0.775510              21.725340               8.782485   \n",
       "4     179  0.978142               8.092908               5.962277   \n",
       "\n",
       "   PrincipalAxisLength_3  PrincipalAxisLength_32ratio  OrientationVector_x  \\\n",
       "0               4.424581                     0.734172             0.267038   \n",
       "1               6.105318                     0.902006             0.975086   \n",
       "2               5.300518                     0.865650            -0.067817   \n",
       "3               6.458644                     0.735401            -0.059285   \n",
       "4               5.494640                     0.921567            -0.733256   \n",
       "\n",
       "   OrientationVector_y  OrientationVector_z  BoundingBox_x  BoundingBox_y  \\\n",
       "0            -0.962246             0.052659            0.5            8.5   \n",
       "1            -0.218923            -0.035764           24.5           12.5   \n",
       "2            -0.271184             0.960135          109.5            0.5   \n",
       "3             0.064144             0.996178           52.5            2.5   \n",
       "4            -0.388385             0.558115           62.5            6.5   \n",
       "\n",
       "   BoundingBox_z  BoundingBox_wx  BoundingBox_wy  BoundingBox_wz  \n",
       "0            0.5              12               8               5  \n",
       "1            0.5              10              18              10  \n",
       "2            1.5               7               6               8  \n",
       "3            1.5              23               8              12  \n",
       "4            1.5               8               9               7  "
      ]
     },
     "execution_count": 13,
     "metadata": {},
     "output_type": "execute_result"
    }
   ],
   "source": [
    "df = pd.read_csv('shewan_biofilm.csv')\n",
    "df.head()"
   ]
  },
  {
   "cell_type": "code",
   "execution_count": 15,
   "metadata": {},
   "outputs": [],
   "source": [
    "folder = 'Data/ShapeIdentify/'\n",
    "img = imread('Data/Segmentation/seg_model_Cell_Broder_residual_dist3D0410_Shewanella_488_cytosol&membrane_BgFilter64_11_crop5ms-2.tif')\n",
    "#get rod cells\n",
    "labels = range(df.shape[0])\n",
    "for label in labels:\n",
    "    extract_object = np.copy(img[math.floor(df.BoundingBox_z[label]):math.floor(df.BoundingBox_z[label])+df.BoundingBox_wz[label], \n",
    "                 math.floor(df.BoundingBox_y[label]):math.floor(df.BoundingBox_y[label])+df.BoundingBox_wy[label], \n",
    "                 math.floor(df.BoundingBox_x[label]):math.floor(df.BoundingBox_x[label])+df.BoundingBox_wx[label]])\n",
    "    extract_object[extract_object != label+1] = 0\n",
    "    dir = os.path.join(folder,'Predict')\n",
    "    if not os.path.exists(dir):\n",
    "        os.mkdir(dir)\n",
    "    Out_filename = '%s' % (str(label+1)+'.tif')\n",
    "    Out_filename = os.path.join(dir, Out_filename)\n",
    "    imwrite(Out_filename, extract_object.astype('uint16'), metadata={'axes': 'ZYX'})\n"
   ]
  },
  {
   "cell_type": "code",
   "execution_count": 7,
   "metadata": {},
   "outputs": [
    {
     "data": {
      "text/plain": [
       "3208"
      ]
     },
     "execution_count": 7,
     "metadata": {},
     "output_type": "execute_result"
    }
   ],
   "source": [
    "df.shape[0]"
   ]
  },
  {
   "cell_type": "code",
   "execution_count": 9,
   "metadata": {},
   "outputs": [
    {
     "data": {
      "text/plain": [
       "range(0, 3208)"
      ]
     },
     "execution_count": 9,
     "metadata": {},
     "output_type": "execute_result"
    }
   ],
   "source": [
    "labels"
   ]
  }
 ],
 "metadata": {
  "kernelspec": {
   "display_name": "Python 3",
   "language": "python",
   "name": "python3"
  },
  "language_info": {
   "codemirror_mode": {
    "name": "ipython",
    "version": 3
   },
   "file_extension": ".py",
   "mimetype": "text/x-python",
   "name": "python",
   "nbconvert_exporter": "python",
   "pygments_lexer": "ipython3",
   "version": "3.8.8"
  }
 },
 "nbformat": 4,
 "nbformat_minor": 4
}
