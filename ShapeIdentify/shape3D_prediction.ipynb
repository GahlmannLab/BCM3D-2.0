{
 "cells": [
  {
   "cell_type": "code",
   "execution_count": 1,
   "metadata": {},
   "outputs": [],
   "source": [
    "import os\n",
    "import numpy as np\n",
    "import tensorflow as tf\n",
    "from tensorflow import keras"
   ]
  },
  {
   "cell_type": "code",
   "execution_count": 2,
   "metadata": {},
   "outputs": [],
   "source": [
    "# data preprocess\n",
    "from tifffile import imread\n",
    "from scipy import ndimage\n",
    "\n",
    "\n",
    "def normalize(volume):\n",
    "    \"\"\"Normalize the volume\"\"\"\n",
    "    volume[volume > 0] = 1\n",
    "    volume = volume.astype(\"float32\")\n",
    "    return volume\n",
    "\n",
    "\n",
    "def resize_volume(img):\n",
    "    \"\"\"Resize\"\"\"\n",
    "    # Set the desired depth\n",
    "    desired_depth = 32\n",
    "    desired_width = 32\n",
    "    desired_height = 32\n",
    "    # Get current depth\n",
    "    current_depth = img.shape[0]\n",
    "    current_width = img.shape[-1]\n",
    "    current_height = img.shape[1]\n",
    "    # Compute depth factor\n",
    "    depth_factor = desired_depth / current_depth\n",
    "    width_factor = desired_width / current_width\n",
    "    height_factor = desired_height / current_height\n",
    "    resize_factor = np.amin([depth_factor, width_factor, height_factor])\n",
    "    # Resize\n",
    "    img = ndimage.zoom(img, resize_factor, order=0)\n",
    "    new_depth = round(current_depth * resize_factor)\n",
    "    new_width = round(current_width * resize_factor)\n",
    "    new_height = round(current_height * resize_factor)\n",
    "    a = round((40 - new_depth) / 2)\n",
    "    b = 40 - new_depth - a\n",
    "    c = round((40 - new_width) / 2)\n",
    "    d = 40 - new_width - c\n",
    "    e = round((40 - new_height) / 2)\n",
    "    f = 40 - new_height -e\n",
    "    img = np.pad(img, ((a,b),(e,f),(c,d)))\n",
    "    img = np.asarray(img).astype('float32')\n",
    "    return img\n",
    "\n",
    "\n",
    "def process_scan(path):\n",
    "    \"\"\"Read and resize volume\"\"\"\n",
    "    # Read scan\n",
    "    volume = imread(path)\n",
    "    # Normalize\n",
    "    volume = normalize(volume)\n",
    "    # Resize width, height and depth\n",
    "    volume = resize_volume(volume)\n",
    "    return volume"
   ]
  },
  {
   "cell_type": "code",
   "execution_count": 3,
   "metadata": {},
   "outputs": [
    {
     "name": "stdout",
     "output_type": "stream",
     "text": [
      "Objects to predict: 3208\n"
     ]
    }
   ],
   "source": [
    "# load data\n",
    "\n",
    "x_filenames = []\n",
    "folder = 'Data/ShapeIdentify/Predict/ShewanellaBiofilm'\n",
    "\n",
    "for filename in os.listdir(folder): #import input folder\n",
    "    if filename.endswith('.tif'):\n",
    "        img = imread(os.path.join(folder, filename))\n",
    "        if img is not None:\n",
    "            x_filenames.append(filename)\n",
    "            \n",
    "print(\"Objects to predict: \" + str(len(x_filenames)))"
   ]
  },
  {
   "cell_type": "code",
   "execution_count": 4,
   "metadata": {},
   "outputs": [],
   "source": [
    "# Load best weights.\n",
    "model = keras.models.load_model('models/3d_image_classification1008.h5')\n",
    "#model.load_weights(\"3d_image_classification.h5\")\n",
    "thresh = 0.5\n",
    "Output = {}\n",
    "Output['RodProbability'] = []\n",
    "Output['Rod'] = []\n",
    "Output['Filename'] = []\n",
    "for filename in x_filenames:\n",
    "    img =  process_scan(os.path.join(folder, filename))\n",
    "    prediction = model.predict(np.expand_dims(img, axis=0))[0][0]\n",
    "    if prediction > thresh:\n",
    "        rod = 1\n",
    "    else:\n",
    "        rod = 0\n",
    "    Output['RodProbability'].append(prediction)\n",
    "    Output['Rod'].append(rod)\n",
    "    Output['Filename'].append(filename)\n"
   ]
  },
  {
   "cell_type": "code",
   "execution_count": 5,
   "metadata": {},
   "outputs": [],
   "source": [
    "import pandas as pd\n",
    "df = pd.DataFrame.from_dict(Output)\n",
    "df.to_csv('Data/ShapeIdentify/Predict/Output1008.csv',index=False)"
   ]
  },
  {
   "cell_type": "code",
   "execution_count": 6,
   "metadata": {},
   "outputs": [
    {
     "data": {
      "text/plain": [
       "0.8628428927680798"
      ]
     },
     "execution_count": 6,
     "metadata": {},
     "output_type": "execute_result"
    }
   ],
   "source": [
    "np.sum(Output['Rod'])/len(Output['Rod'])"
   ]
  }
 ],
 "metadata": {
  "kernelspec": {
   "display_name": "Python 3",
   "language": "python",
   "name": "python3"
  },
  "language_info": {
   "codemirror_mode": {
    "name": "ipython",
    "version": 3
   },
   "file_extension": ".py",
   "mimetype": "text/x-python",
   "name": "python",
   "nbconvert_exporter": "python",
   "pygments_lexer": "ipython3",
   "version": "3.8.8"
  }
 },
 "nbformat": 4,
 "nbformat_minor": 4
}
