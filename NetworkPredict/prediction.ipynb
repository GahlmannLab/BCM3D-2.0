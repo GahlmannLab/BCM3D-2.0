{
 "cells": [
  {
   "cell_type": "markdown",
   "metadata": {},
   "source": [
    "<hr style=\"height:2px;\">\n",
    "\n",
    "# Demo: Apply trained CARE model for image transfer in *BCM3D 2.0*\n",
    "\n",
    "This notebook demonstrates applying a CARE model for a 3D image transfer task, assuming that training was already completed via training.ipynb.  \n",
    "The trained model is assumed to be located in the folder `models` with the name `my_model`."
   ]
  },
  {
   "cell_type": "code",
   "execution_count": null,
   "metadata": {},
   "outputs": [],
   "source": [
    "from __future__ import print_function, unicode_literals, absolute_import, division\n",
    "import numpy as np\n",
    "import matplotlib.pyplot as plt\n",
    "%matplotlib inline\n",
    "%config InlineBackend.figure_format = 'retina'\n",
    "\n",
    "from tifffile import imread\n",
    "from csbdeep.utils import Path, download_and_extract_zip_file, plot_some\n",
    "from csbdeep.io import save_tiff_imagej_compatible\n",
    "from csbdeep.models import CARE\n",
    "\n",
    "import os"
   ]
  },
  {
   "cell_type": "markdown",
   "metadata": {},
   "source": [
    "<hr style=\"height:2px;\">\n",
    "\n",
    "# Load model and input images\n"
   ]
  },
  {
   "cell_type": "code",
   "execution_count": 2,
   "metadata": {},
   "outputs": [
    {
     "name": "stdout",
     "output_type": "stream",
     "text": [
      "Loading network weights from 'weights_best.h5'.\n"
     ]
    }
   ],
   "source": [
    "# Load model\n",
    "model = CARE(config=None, name='my_model', basedir='models')\n",
    "axes ='ZCYX'\n",
    "#input images\n",
    "\n",
    "x_images = []\n",
    "x_filenames = []\n",
    "folder = 'Data/Predict/Raw' #locate to your raw data\n",
    "for filename in os.listdir(folder): #import input folder\n",
    "    if filename.endswith('.tif'):\n",
    "        img = imread(os.path.join(folder, filename))\n",
    "        if img is not None:\n",
    "            x_images.append(img)\n",
    "            x_filenames.append(filename)"
   ]
  },
  {
   "cell_type": "markdown",
   "metadata": {},
   "source": [
    "## Apply CARE network to input image\n",
    "\n",
    "Predict the restored image, we suggest you use n_tiles to divide your data if it is too large for memory."
   ]
  },
  {
   "cell_type": "code",
   "execution_count": null,
   "metadata": {},
   "outputs": [],
   "source": [
    "# Predict\n",
    "img_num = len(x_images)\n",
    "for k in range(img_num):\n",
    "    x = x_images[k]\n",
    "    x = np.stack((x, x), axis=1)\n",
    "    print('input image size =', x.shape)\n",
    "    print('input image axes =', axes)\n",
    "\n",
    "    #%%time\n",
    "    restored = model.predict(x, axes, n_tiles=(1,1,2,2)) #solve out of memory issue\n",
    "    print('output image size=', restored.shape)\n",
    "    print('output image axes =', axes)\n",
    "    #Save Stored images\n",
    "    Path('Data/Predict/ModelOutput').mkdir(exist_ok=True)\n",
    "    save_tiff_imagej_compatible('Data/Predict/ModelOutput/%s_%s' % (model.name, x_filenames[k]), restored, axes)"
   ]
  },
  {
   "cell_type": "markdown",
   "metadata": {},
   "source": [
    "**Note**: *Out of memory* problems during `model.predict` can also indicate that the GPU is used by another process. In particular, shut down the training notebook before running the prediction (you may need to restart this notebook)."
   ]
  }
 ],
 "metadata": {
  "kernelspec": {
   "display_name": "Python 3",
   "language": "python",
   "name": "python3"
  },
  "language_info": {
   "codemirror_mode": {
    "name": "ipython",
    "version": 3
   },
   "file_extension": ".py",
   "mimetype": "text/x-python",
   "name": "python",
   "nbconvert_exporter": "python",
   "pygments_lexer": "ipython3",
   "version": "3.8.8"
  }
 },
 "nbformat": 4,
 "nbformat_minor": 4
}
